{
 "cells": [
  {
   "cell_type": "markdown",
   "metadata": {},
   "source": [
    "**Due**:Tuesday, June 12, 2024 11:59 PM EST\n",
    "\n",
    "**Author**:Alejandro M. Ouslan\n",
    "\n",
    "\n",
    "# Use the data in **WAGE1** in this excercise.\n",
    "- Find the average education level in the sample. What are the lowest and highest years of education? \n",
    "    - **Answer**: The mean for education level is $12.56$, the min is $0$ and the max is $18$."
   ]
  },
  {
   "cell_type": "code",
   "execution_count": 1,
   "metadata": {},
   "outputs": [],
   "source": [
    "# import libaries\n",
    "import statsmodels.api as sm\n",
    "import polars as pl\n",
    "import pandas as pd\n",
    "import numpy as np\n",
    "import cpi\n",
    "import os \n",
    "os.chdir(\"..\")"
   ]
  },
  {
   "cell_type": "code",
   "execution_count": 2,
   "metadata": {},
   "outputs": [
    {
     "data": {
      "text/plain": [
       "12.562737642585551"
      ]
     },
     "execution_count": 2,
     "metadata": {},
     "output_type": "execute_result"
    }
   ],
   "source": [
    "# Getting descriptive statistics for education level\n",
    "wage1 = pl.from_pandas(pd.read_stata(\"data/raw/WAGE1.dta\"))\n",
    "wage1[\"educ\"].mean()"
   ]
  },
  {
   "cell_type": "markdown",
   "metadata": {},
   "source": [
    "- Find the average hourly wage in the sample. Does it seme high or low?\n",
    "    - **Answer**: The mean for hourly wages is $5.896$"
   ]
  },
  {
   "cell_type": "code",
   "execution_count": 3,
   "metadata": {},
   "outputs": [
    {
     "data": {
      "text/plain": [
       "5.896102674787035"
      ]
     },
     "execution_count": 3,
     "metadata": {},
     "output_type": "execute_result"
    }
   ],
   "source": [
    "wage1[\"wage\"].mean()"
   ]
  },
  {
   "cell_type": "markdown",
   "metadata": {},
   "source": [
    "- The wage data are reported in 1976 dollars. Using the Internet or a printed source,\n",
    "find the Consumer Price Index (CPI) for the years 1976 and 2013.\n",
    "    - **Answer**:the CPI for the years 1976 to 2013 is $409.41\\%$\n",
    "- Use the CPI values from part (iii) to find the average hourly wage in 2013 dollars. Now does the average hourly wage seem reasonable?\n",
    "    - **Answer**:the average hourly wage in 2013 is $24.14$"
   ]
  },
  {
   "cell_type": "code",
   "execution_count": 4,
   "metadata": {},
   "outputs": [
    {
     "data": {
      "text/plain": [
       "24.13951477698354"
      ]
     },
     "execution_count": 4,
     "metadata": {},
     "output_type": "execute_result"
    }
   ],
   "source": [
    "cpi.inflate(wage1[\"wage\"].mean(), 1976, to=2013)"
   ]
  },
  {
   "cell_type": "markdown",
   "metadata": {},
   "source": [
    "- How many women are in the sample? How many men?\n",
    "    - **Answer:** 252"
   ]
  },
  {
   "cell_type": "code",
   "execution_count": 5,
   "metadata": {},
   "outputs": [
    {
     "data": {
      "text/html": [
       "<div><style>\n",
       ".dataframe > thead > tr,\n",
       ".dataframe > tbody > tr {\n",
       "  text-align: right;\n",
       "  white-space: pre-wrap;\n",
       "}\n",
       "</style>\n",
       "<small>shape: (1, 1)</small><table border=\"1\" class=\"dataframe\"><thead><tr><th>female</th></tr><tr><td>i64</td></tr></thead><tbody><tr><td>252</td></tr></tbody></table></div>"
      ],
      "text/plain": [
       "shape: (1, 1)\n",
       "┌────────┐\n",
       "│ female │\n",
       "│ ---    │\n",
       "│ i64    │\n",
       "╞════════╡\n",
       "│ 252    │\n",
       "└────────┘"
      ]
     },
     "execution_count": 5,
     "metadata": {},
     "output_type": "execute_result"
    }
   ],
   "source": [
    "wage1.select(pl.col(\"female\")).sum()"
   ]
  },
  {
   "cell_type": "markdown",
   "metadata": {},
   "source": [
    "# The data set in CEOSAL2 contains information on chief executive officers for U.S. corporations. The variable *salary* is annual compensation, in thousands of dollars, and *ceoten* is prior number of years as company CEO.\n",
    "- Find the average salary and the average tenure in the sample.\n",
    "    - **Answer:** The average salary is $\\$865.86$ and the average tenure is $7.95$ years."
   ]
  },
  {
   "cell_type": "code",
   "execution_count": 6,
   "metadata": {},
   "outputs": [
    {
     "data": {
      "text/html": [
       "<div><style>\n",
       ".dataframe > thead > tr,\n",
       ".dataframe > tbody > tr {\n",
       "  text-align: right;\n",
       "  white-space: pre-wrap;\n",
       "}\n",
       "</style>\n",
       "<small>shape: (1, 2)</small><table border=\"1\" class=\"dataframe\"><thead><tr><th>salary</th><th>ceoten</th></tr><tr><td>f64</td><td>f64</td></tr></thead><tbody><tr><td>865.864407</td><td>7.954802</td></tr></tbody></table></div>"
      ],
      "text/plain": [
       "shape: (1, 2)\n",
       "┌────────────┬──────────┐\n",
       "│ salary     ┆ ceoten   │\n",
       "│ ---        ┆ ---      │\n",
       "│ f64        ┆ f64      │\n",
       "╞════════════╪══════════╡\n",
       "│ 865.864407 ┆ 7.954802 │\n",
       "└────────────┴──────────┘"
      ]
     },
     "execution_count": 6,
     "metadata": {},
     "output_type": "execute_result"
    }
   ],
   "source": [
    "# Getting descriptive statistics for education level\n",
    "ceosal2 = pl.from_pandas(pd.read_stata(\"data/raw/CEOSAL2.dta\"))\n",
    "ceosal2.select(pl.col(\"salary\", \"ceoten\")).mean()"
   ]
  },
  {
   "cell_type": "markdown",
   "metadata": {},
   "source": [
    "- How many CEOs are in their first year as CEO (that is, ceoten = 0)? What is the longest tenure as a CEO? \n",
    "    - **Answer**: There $5$ CEOs are in their first year as CEO. The are $2$ with the longest tenure, which is $37$ years."
   ]
  },
  {
   "cell_type": "code",
   "execution_count": 7,
   "metadata": {},
   "outputs": [
    {
     "data": {
      "text/html": [
       "<div><style>\n",
       ".dataframe > thead > tr,\n",
       ".dataframe > tbody > tr {\n",
       "  text-align: right;\n",
       "  white-space: pre-wrap;\n",
       "}\n",
       "</style>\n",
       "<small>shape: (1, 1)</small><table border=\"1\" class=\"dataframe\"><thead><tr><th>ceoten</th></tr><tr><td>u32</td></tr></thead><tbody><tr><td>5</td></tr></tbody></table></div>"
      ],
      "text/plain": [
       "shape: (1, 1)\n",
       "┌────────┐\n",
       "│ ceoten │\n",
       "│ ---    │\n",
       "│ u32    │\n",
       "╞════════╡\n",
       "│ 5      │\n",
       "└────────┘"
      ]
     },
     "execution_count": 7,
     "metadata": {},
     "output_type": "execute_result"
    }
   ],
   "source": [
    "ceosal2.select(pl.col(\"ceoten\")).filter(pl.col(\"ceoten\") == 0).count()"
   ]
  },
  {
   "cell_type": "code",
   "execution_count": 8,
   "metadata": {},
   "outputs": [
    {
     "data": {
      "text/html": [
       "<div><style>\n",
       ".dataframe > thead > tr,\n",
       ".dataframe > tbody > tr {\n",
       "  text-align: right;\n",
       "  white-space: pre-wrap;\n",
       "}\n",
       "</style>\n",
       "<small>shape: (3, 1)</small><table border=\"1\" class=\"dataframe\"><thead><tr><th>ceoten</th></tr><tr><td>i8</td></tr></thead><tbody><tr><td>37</td></tr><tr><td>37</td></tr><tr><td>34</td></tr></tbody></table></div>"
      ],
      "text/plain": [
       "shape: (3, 1)\n",
       "┌────────┐\n",
       "│ ceoten │\n",
       "│ ---    │\n",
       "│ i8     │\n",
       "╞════════╡\n",
       "│ 37     │\n",
       "│ 37     │\n",
       "│ 34     │\n",
       "└────────┘"
      ]
     },
     "execution_count": 8,
     "metadata": {},
     "output_type": "execute_result"
    }
   ],
   "source": [
    "ceosal2.select(pl.col(\"ceoten\")).sort([\"ceoten\"], descending=True).head(3)"
   ]
  },
  {
   "cell_type": "markdown",
   "metadata": {},
   "source": [
    "- Estimate the simple regression model $$\\log{salary} = \\Beta _0 + \\Beta _1 ceoten + \\epsilon $$ and report your results in the usual form. What is the (approximate) predicted percentage increase in salary given one more year as a CEO?\n",
    "   - **Answer**: There is not sufficient evidence to support a significant relationship between the CEO's tenure and salary."
   ]
  },
  {
   "cell_type": "code",
   "execution_count": 9,
   "metadata": {},
   "outputs": [
    {
     "name": "stdout",
     "output_type": "stream",
     "text": [
      "                            OLS Regression Results                            \n",
      "==============================================================================\n",
      "Dep. Variable:             log_salary   R-squared:                       0.013\n",
      "Model:                            OLS   Adj. R-squared:                  0.008\n",
      "Method:                 Least Squares   F-statistic:                     2.334\n",
      "Date:                Wed, 12 Jun 2024   Prob (F-statistic):              0.128\n",
      "Time:                        12:08:05   Log-Likelihood:                -160.84\n",
      "No. Observations:                 177   AIC:                             325.7\n",
      "Df Residuals:                     175   BIC:                             332.0\n",
      "Df Model:                           1                                         \n",
      "Covariance Type:            nonrobust                                         \n",
      "==============================================================================\n",
      "                 coef    std err          t      P>|t|      [0.025      0.975]\n",
      "------------------------------------------------------------------------------\n",
      "const          6.5055      0.068     95.682      0.000       6.371       6.640\n",
      "ceoten         0.0097      0.006      1.528      0.128      -0.003       0.022\n",
      "==============================================================================\n",
      "Omnibus:                        3.858   Durbin-Watson:                   2.084\n",
      "Prob(Omnibus):                  0.145   Jarque-Bera (JB):                3.907\n",
      "Skew:                          -0.189   Prob(JB):                        0.142\n",
      "Kurtosis:                       3.622   Cond. No.                         16.1\n",
      "==============================================================================\n",
      "\n",
      "Notes:\n",
      "[1] Standard Errors assume that the covariance matrix of the errors is correctly specified.\n"
     ]
    }
   ],
   "source": [
    "df = pd.read_stata(\"data/raw/CEOSAL2.dta\")\n",
    "df[\"log_salary\"] = np.log(df[\"salary\"])\n",
    "x = sm.add_constant(df[\"ceoten\"])\n",
    "reg = sm.OLS(endog=df[\"log_salary\"], exog=x, missing='drop')\n",
    "print(reg.fit().summary())"
   ]
  },
  {
   "cell_type": "markdown",
   "metadata": {},
   "source": [
    "# Use the data in HPRICE1 to estimate the mode\n",
    "$$price = \\Beta _0 + \\Beta _1  sqrft + \\Beta _2 bdrms + \\epsilon$$\n",
    "- Write out the results in equation form."
   ]
  },
  {
   "cell_type": "code",
   "execution_count": 10,
   "metadata": {},
   "outputs": [
    {
     "name": "stdout",
     "output_type": "stream",
     "text": [
      "                            OLS Regression Results                            \n",
      "==============================================================================\n",
      "Dep. Variable:                  price   R-squared:                       0.632\n",
      "Model:                            OLS   Adj. R-squared:                  0.623\n",
      "Method:                 Least Squares   F-statistic:                     72.96\n",
      "Date:                Wed, 12 Jun 2024   Prob (F-statistic):           3.57e-19\n",
      "Time:                        12:08:05   Log-Likelihood:                -488.00\n",
      "No. Observations:                  88   AIC:                             982.0\n",
      "Df Residuals:                      85   BIC:                             989.4\n",
      "Df Model:                           2                                         \n",
      "Covariance Type:            nonrobust                                         \n",
      "==============================================================================\n",
      "                 coef    std err          t      P>|t|      [0.025      0.975]\n",
      "------------------------------------------------------------------------------\n",
      "const        -19.3150     31.047     -0.622      0.536     -81.044      42.414\n",
      "sqrft          0.1284      0.014      9.291      0.000       0.101       0.156\n",
      "bdrms         15.1982      9.484      1.603      0.113      -3.658      34.054\n",
      "==============================================================================\n",
      "Omnibus:                       25.221   Durbin-Watson:                   1.858\n",
      "Prob(Omnibus):                  0.000   Jarque-Bera (JB):               44.973\n",
      "Skew:                           1.122   Prob(JB):                     1.72e-10\n",
      "Kurtosis:                       5.689   Cond. No.                     9.85e+03\n",
      "==============================================================================\n",
      "\n",
      "Notes:\n",
      "[1] Standard Errors assume that the covariance matrix of the errors is correctly specified.\n",
      "[2] The condition number is large, 9.85e+03. This might indicate that there are\n",
      "strong multicollinearity or other numerical problems.\n"
     ]
    }
   ],
   "source": [
    "df = pd.read_stata(\"data/raw/hprice1.dta\")\n",
    "df[\"log_price\"] = np.log(df[\"price\"])\n",
    "x = sm.add_constant(df[[\"sqrft\", \"bdrms\"]])\n",
    "reg = sm.OLS(endog=df[\"price\"], exog=x, missing='drop')\n",
    "print(reg.fit().summary())"
   ]
  },
  {
   "cell_type": "markdown",
   "metadata": {},
   "source": [
    "- What is the estimated increase in price for a house with one more bedroom,\n",
    "holding square footage constant?\n",
    "    - **Answer**: The increase in price fora a house with one more bedroom is $15,000$.\n",
    "- What is the estimated increase in price for a house with an additional bedroom\n",
    "that is 140 squarefeet in size? Compare this to your answer in part (ii).\n",
    "    - **Answer**: The increase in price fora a house with one more bedroom is $15,000$.Since this a linerar equation every addition bedroom will alwayse be and increase of $15,000$.\n",
    "- What percentage of the variation in price is explained by square footage and\n",
    "number of bedrooms?\n",
    "    - **Answer**: $63.2\\%$ of the variation in price is explained by square footage and number of bedrooms.However, it is important to note that the is a large condition number which mean their is a strong multicollinearity inflating the $R^2$ value.\n",
    "- The first house in the sample has sqrft = 2,438 and bdrms = 4. Find the predicted\n",
    "selling price for this house from the OLS regression line\n",
    "    - **Answer**: $354,600$\n",
    "\n"
   ]
  },
  {
   "cell_type": "code",
   "execution_count": 11,
   "metadata": {},
   "outputs": [
    {
     "data": {
      "text/plain": [
       "354.6052489839995"
      ]
     },
     "execution_count": 11,
     "metadata": {},
     "output_type": "execute_result"
    }
   ],
   "source": [
    "reg.fit().params[\"const\"] + \\\n",
    "reg.fit().params[\"sqrft\"] * 2438 + \\\n",
    "reg.fit().params[\"bdrms\"] * 4"
   ]
  },
  {
   "cell_type": "markdown",
   "metadata": {},
   "source": [
    "- The actual selling price of the first house in the sample was $300,000 (so price =\n",
    "300). Find the residual for this house. Does it suggest that the buyer underpaid or\n",
    "overpaid for the house?\n",
    "    - **Answer**: This means that the buyer underpaid for the house.\n",
    "# Refer to Computer Exercise C2 in Chapter 3 (Question above). Now, use the log of the housing price as the dependent variable: \n",
    "$$\\log(price) = \\Beta _0 + \\Beta _1  sqrft + \\Beta _2 bdrms + \\epsilon$$\n",
    "\n",
    "- You are interested in estimating and obtaining a confidence interval for the\n",
    "percentage change in price when a 150-square-foot bedroom is added to a house. In decimal form, this is $\\theta _1 = 150 \\Beta _1 + \\Beta _2$. Use the data in HPRICE1 to estimate $\\theta _1$.\n",
    "    - **Answer**: $0.0858$"
   ]
  },
  {
   "cell_type": "code",
   "execution_count": 12,
   "metadata": {},
   "outputs": [
    {
     "name": "stdout",
     "output_type": "stream",
     "text": [
      "                            OLS Regression Results                            \n",
      "==============================================================================\n",
      "Dep. Variable:              log_price   R-squared:                       0.588\n",
      "Model:                            OLS   Adj. R-squared:                  0.579\n",
      "Method:                 Least Squares   F-statistic:                     60.73\n",
      "Date:                Wed, 12 Jun 2024   Prob (F-statistic):           4.17e-17\n",
      "Time:                        12:08:05   Log-Likelihood:                 19.592\n",
      "No. Observations:                  88   AIC:                            -33.18\n",
      "Df Residuals:                      85   BIC:                            -25.75\n",
      "Df Model:                           2                                         \n",
      "Covariance Type:            nonrobust                                         \n",
      "==============================================================================\n",
      "                 coef    std err          t      P>|t|      [0.025      0.975]\n",
      "------------------------------------------------------------------------------\n",
      "const          4.7660      0.097     49.112      0.000       4.573       4.959\n",
      "sqrft          0.0004   4.32e-05      8.781      0.000       0.000       0.000\n",
      "bdrms          0.0289      0.030      0.974      0.333      -0.030       0.088\n",
      "==============================================================================\n",
      "Omnibus:                       11.244   Durbin-Watson:                   1.807\n",
      "Prob(Omnibus):                  0.004   Jarque-Bera (JB):               24.634\n",
      "Skew:                          -0.332   Prob(JB):                     4.47e-06\n",
      "Kurtosis:                       5.506   Cond. No.                     9.85e+03\n",
      "==============================================================================\n",
      "\n",
      "Notes:\n",
      "[1] Standard Errors assume that the covariance matrix of the errors is correctly specified.\n",
      "[2] The condition number is large, 9.85e+03. This might indicate that there are\n",
      "strong multicollinearity or other numerical problems.\n"
     ]
    }
   ],
   "source": [
    "reg = sm.OLS(endog=df[\"log_price\"], exog=x, missing='drop')\n",
    "print(reg.fit().summary())"
   ]
  },
  {
   "cell_type": "code",
   "execution_count": 13,
   "metadata": {},
   "outputs": [
    {
     "data": {
      "text/plain": [
       "0.08580134441876913"
      ]
     },
     "execution_count": 13,
     "metadata": {},
     "output_type": "execute_result"
    }
   ],
   "source": [
    "theta = 150 * reg.fit().params[\"sqrft\"] + reg.fit().params[\"bdrms\"] \n",
    "theta"
   ]
  },
  {
   "cell_type": "markdown",
   "metadata": {},
   "source": [
    "- Write $\\Beta _2$ in terms of $\\theta _1$ and $\\Beta _2$ and plug this into the log(price) equation.\n",
    "    - \n",
    "- Use part (ii) to obtain a standard error for 𝜃1 and use this standard error to (150bta-thata and beta2-1)\n",
    "construct a 95% confidence interval.\n",
    "    - **Answer**: $(150.17, 149.83)$"
   ]
  },
  {
   "cell_type": "code",
   "execution_count": 20,
   "metadata": {},
   "outputs": [],
   "source": [
    "df[\"sqrt_bdroom\"] = df[\"sqrft\"] - 150 * df[\"bdrms\"]"
   ]
  },
  {
   "cell_type": "code",
   "execution_count": 27,
   "metadata": {},
   "outputs": [
    {
     "name": "stdout",
     "output_type": "stream",
     "text": [
      "                            OLS Regression Results                            \n",
      "==============================================================================\n",
      "Dep. Variable:              log_price   R-squared:                       0.588\n",
      "Model:                            OLS   Adj. R-squared:                  0.579\n",
      "Method:                 Least Squares   F-statistic:                     60.73\n",
      "Date:                Wed, 12 Jun 2024   Prob (F-statistic):           4.17e-17\n",
      "Time:                        12:40:35   Log-Likelihood:                 19.592\n",
      "No. Observations:                  88   AIC:                            -33.18\n",
      "Df Residuals:                      85   BIC:                            -25.75\n",
      "Df Model:                           2                                         \n",
      "Covariance Type:            nonrobust                                         \n",
      "===============================================================================\n",
      "                  coef    std err          t      P>|t|      [0.025      0.975]\n",
      "-------------------------------------------------------------------------------\n",
      "const           4.7660      0.097     49.112      0.000       4.573       4.959\n",
      "sqrt_bdroom     0.0004   4.32e-05      8.781      0.000       0.000       0.000\n",
      "bdrms           0.0858      0.027      3.205      0.002       0.033       0.139\n",
      "==============================================================================\n",
      "Omnibus:                       11.244   Durbin-Watson:                   1.807\n",
      "Prob(Omnibus):                  0.004   Jarque-Bera (JB):               24.634\n",
      "Skew:                          -0.332   Prob(JB):                     4.47e-06\n",
      "Kurtosis:                       5.506   Cond. No.                     7.40e+03\n",
      "==============================================================================\n",
      "\n",
      "Notes:\n",
      "[1] Standard Errors assume that the covariance matrix of the errors is correctly specified.\n",
      "[2] The condition number is large, 7.4e+03. This might indicate that there are\n",
      "strong multicollinearity or other numerical problems.\n"
     ]
    }
   ],
   "source": [
    "df[\"sqrt_bdroom\"] = df[\"sqrft\"] - (150 * df[\"bdrms\"])\n",
    "x = sm.add_constant(df[[\"sqrt_bdroom\", \"bdrms\"]])\n",
    "reg = sm.OLS(endog=df[\"log_price\"], exog=x, missing='drop')\n",
    "print(reg.fit().summary())"
   ]
  }
 ],
 "metadata": {
  "kernelspec": {
   "display_name": "class",
   "language": "python",
   "name": "python3"
  },
  "language_info": {
   "codemirror_mode": {
    "name": "ipython",
    "version": 3
   },
   "file_extension": ".py",
   "mimetype": "text/x-python",
   "name": "python",
   "nbconvert_exporter": "python",
   "pygments_lexer": "ipython3",
   "version": "3.9.19"
  }
 },
 "nbformat": 4,
 "nbformat_minor": 2
}
