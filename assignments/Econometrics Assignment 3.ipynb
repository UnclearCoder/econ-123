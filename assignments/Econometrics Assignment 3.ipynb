{
 "cells": [
  {
   "cell_type": "markdown",
   "metadata": {},
   "source": [
    "**Due**:Tuesday, June 21, 2024 11:59 PM EST\n",
    "\n",
    "**Author**:Alejandro M. Ouslan\n",
    "\n",
    "# Use the data in **WAGE2** in this exercise.\n",
    "\n",
    "- Consider the standard wage equation\n",
    "\n",
    "$$\\log(wage) = \\beta_0 + \\beta_1 educ + \\beta_2 exper + \\beta_3 tenure + u$$\n",
    "\n",
    "- State the null hypothesis that another year of general workforce experience has the same effect on log(wage) as another year of tenure with the current employer.\n",
    "\n",
    "    - **Answer**:\n",
    "    $$H_0: \\beta_2 = 0$$\n",
    "    $$H_0: \\beta_2 \\neq 0$$\n",
    "- Test the null hypothesis in part $i$ against a two-sided alternative, at the $5/%$\n",
    "significance level, by constructing a $95\\%$ confidence interval. What do you conclude?\n",
    "\n",
    "    - **Answer**: The p-value for workforce experience is $0.000$ and since the p-value is less than the significance level of $0.05$, we reject the null hypothesis."
   ]
  },
  {
   "cell_type": "code",
   "execution_count": 1,
   "metadata": {},
   "outputs": [],
   "source": [
    "# Imports \n",
    "import matplotlib.pyplot as plt \n",
    "import statsmodels.api as sm\n",
    "from scipy import stats\n",
    "import polars as pl\n",
    "import pandas as pd\n",
    "import os \n",
    "os.chdir(\"..\")"
   ]
  },
  {
   "cell_type": "code",
   "execution_count": 2,
   "metadata": {},
   "outputs": [
    {
     "name": "stdout",
     "output_type": "stream",
     "text": [
      "                            OLS Regression Results                            \n",
      "==============================================================================\n",
      "Dep. Variable:                  lwage   R-squared:                       0.155\n",
      "Model:                            OLS   Adj. R-squared:                  0.152\n",
      "Method:                 Least Squares   F-statistic:                     56.97\n",
      "Date:                Fri, 21 Jun 2024   Prob (F-statistic):           8.12e-34\n",
      "Time:                        18:38:32   Log-Likelihood:                -438.84\n",
      "No. Observations:                 935   AIC:                             885.7\n",
      "Df Residuals:                     931   BIC:                             905.0\n",
      "Df Model:                           3                                         \n",
      "Covariance Type:            nonrobust                                         \n",
      "==============================================================================\n",
      "                 coef    std err          t      P>|t|      [0.025      0.975]\n",
      "------------------------------------------------------------------------------\n",
      "const          5.4967      0.111     49.731      0.000       5.280       5.714\n",
      "educ           0.0749      0.007     11.495      0.000       0.062       0.088\n",
      "exper          0.0153      0.003      4.549      0.000       0.009       0.022\n",
      "tenure         0.0134      0.003      5.170      0.000       0.008       0.018\n",
      "==============================================================================\n",
      "Omnibus:                       20.917   Durbin-Watson:                   1.769\n",
      "Prob(Omnibus):                  0.000   Jarque-Bera (JB):               30.558\n",
      "Skew:                          -0.214   Prob(JB):                     2.31e-07\n",
      "Kurtosis:                       3.775   Cond. No.                         170.\n",
      "==============================================================================\n",
      "\n",
      "Notes:\n",
      "[1] Standard Errors assume that the covariance matrix of the errors is correctly specified.\n"
     ]
    }
   ],
   "source": [
    "# Run the regression Model OLS\n",
    "\n",
    "df = pd.read_stata(\"data/raw/WAGE2.dta\")\n",
    "x = sm.add_constant(df[[\"educ\", \"exper\", \"tenure\"]])\n",
    "reg = sm.OLS(endog=df[\"lwage\"], exog=x, missing='drop')\n",
    "print(reg.fit().summary())"
   ]
  },
  {
   "cell_type": "markdown",
   "metadata": {},
   "source": [
    "# Use the data in WAGE1 for this exercise\n",
    "\n",
    "- Estimate the equation\n",
    "\n",
    "$$wage = \\beta_0 + \\beta_1 educ + \\beta_2 exper + \\beta_3 tenure + u$$\n",
    "\n",
    "Save the residuals and plot a histogram."
   ]
  },
  {
   "cell_type": "code",
   "execution_count": 3,
   "metadata": {},
   "outputs": [
    {
     "data": {
      "text/plain": [
       "<Axes: >"
      ]
     },
     "execution_count": 3,
     "metadata": {},
     "output_type": "execute_result"
    },
    {
     "data": {
      "image/png": "[encoded data removed]",
      "text/plain": [
       "<Figure size 1000x1000 with 1 Axes>"
      ]
     },
     "metadata": {},
     "output_type": "display_data"
    }
   ],
   "source": [
    "df = pd.read_stata(\"data/raw/WAGE1.dta\")\n",
    "x = sm.add_constant(df[[\"educ\", \"exper\", \"tenure\"]])\n",
    "reg_wage2 = sm.OLS(endog=df[\"wage\"], exog=x, missing='drop').fit()\n",
    "resit1 = reg_wage2.resid\n",
    "resit1.hist(bins=60, figsize=(10, 10))"
   ]
  },
  {
   "cell_type": "markdown",
   "metadata": {},
   "source": [
    "- Repeat part i, but with log(wage) as the dependent variable.\n"
   ]
  },
  {
   "cell_type": "code",
   "execution_count": 4,
   "metadata": {},
   "outputs": [
    {
     "data": {
      "text/plain": [
       "<Axes: >"
      ]
     },
     "execution_count": 4,
     "metadata": {},
     "output_type": "execute_result"
    },
    {
     "data": {
      "image/png": "[encoded data removed]",
      "text/plain": [
       "<Figure size 1000x1000 with 1 Axes>"
      ]
     },
     "metadata": {},
     "output_type": "display_data"
    }
   ],
   "source": [
    "# creating regression plots \n",
    "reg_wage1 = sm.OLS(endog=df[\"lwage\"], exog=x, missing='drop').fit()\n",
    "resit2 = reg_wage1.resid\n",
    "resit2.hist(bins=60, figsize=(10, 10))"
   ]
  },
  {
   "cell_type": "markdown",
   "metadata": {},
   "source": [
    "- Would you say that Assumption MLR.6 (Normality) is closer to being satisfied for the level-level model or the log-level model?\n",
    "\n",
    "    - **Answer**: Using a normally test based on D’Agostino and Pearson’s [1], [2] test that combines skew and kurtosis to produce an omnibus test of normality, we find that the data is not normally distributed. However, the log-level is more normal distributed than level-level."
   ]
  },
  {
   "cell_type": "code",
   "execution_count": 5,
   "metadata": {},
   "outputs": [
    {
     "name": "stdout",
     "output_type": "stream",
     "text": [
      "Norm test for level-level: 0.0\n",
      "Norm test for log-level: 0.003\n"
     ]
    }
   ],
   "source": [
    "# normality test\n",
    "res1 = stats.normaltest(resit1)\n",
    "res2 = stats.normaltest(resit2)\n",
    "print(f\"Norm test for level-level: {round(res1.pvalue, 3)}\")\n",
    "print(f\"Norm test for log-level: {round(res2.pvalue, 3)}\")"
   ]
  },
  {
   "cell_type": "markdown",
   "metadata": {},
   "source": [
    "# Suppose you run the following model:\n",
    "\n",
    "$$log(wage) = \\beta_0 + \\beta_1 educ + \\beta_2 Experience + u$$\n",
    "\n",
    "- Please write the regression with the corresponding estimates now. What has the bigger effect?\n",
    "\n",
    "$$log(wage) = 1.51 + .079 educ + .013 Experience + u$$\n",
    "- What is the interpretation of each coefficient?\n",
    "\n",
    "    - **Answer:** This means that an increase of 1 unit in education level will increase the logarithm of the wage by $.079$, and an increase of 1 unit in experience will increase the logarithm of the wage by $.013$.\n",
    "\n",
    "- What is the goodness of fit of this model?\n",
    "\n",
    "    - **Answer:** The goodness of fit of this model is $0.21$.\n",
    "\n",
    "- Now suppose you have the following model:\n",
    "\n",
    "$$log(wage) = \\beta_0 + \\beta_1 educ + \\beta_2 Experience + \\beta_3 hoursworked + \\beta_4 weekworked + u$$\n",
    "\n",
    "- Has there been any changes to our restricted model? Are education and experience still significant?\n",
    "\n",
    "    - **Answer:** No, there has not been any changes to our restricted model. Education and experience are still significant.\n",
    "- Is this model better at predicting wage than our previous model? Explain.\n",
    "\n",
    "    - **Answer:** This model is better since it is fixing the effects of hours worked and week worked."
   ]
  },
  {
   "cell_type": "markdown",
   "metadata": {},
   "source": [
    "#### References\n",
    "\n",
    "- [1] D’Agostino, R. B. (1971), “An omnibus test of normality for moderate and large sample size”, Biometrika, 58, 341-348\n",
    "\n",
    "- [2] D’Agostino, R. and Pearson, E. S. (1973), “Tests for departure from normality”, Biometrika, 60, 613-622\n"
   ]
  }
 ],
 "metadata": {
  "kernelspec": {
   "display_name": "mov",
   "language": "python",
   "name": "python3"
  },
  "language_info": {
   "codemirror_mode": {
    "name": "ipython",
    "version": 3
   },
   "file_extension": ".py",
   "mimetype": "text/x-python",
   "name": "python",
   "nbconvert_exporter": "python",
   "pygments_lexer": "ipython3",
   "version": "3.12.4"
  }
 },
 "nbformat": 4,
 "nbformat_minor": 2
}
