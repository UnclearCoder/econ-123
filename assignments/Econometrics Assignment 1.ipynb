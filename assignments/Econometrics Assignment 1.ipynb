{
 "cells": [
  {
   "cell_type": "markdown",
   "metadata": {},
   "source": [
    "**Due**:Tuesday, June 3, 2021 11:59 PM EST\n",
    "\n",
    "**Author**:Alejandro M. Ouslan\n",
    "## Exercice 1:\n",
    "- Two soccer (Football) teams go into a penalty shoot-out. Each team selects their five\n",
    "players for the shootout. The probabilities of them making their individual, independent\n",
    "shot is as follows:\n",
    "    - Team A: {0.89, 0.67, 0.78, 0.44, 0.75}\n",
    "    - Team B: {0.91, 0.75, 0.39, 0.60, 0.88}"
   ]
  },
  {
   "cell_type": "code",
   "execution_count": 29,
   "metadata": {},
   "outputs": [],
   "source": [
    "# imports \n",
    "import polars as pl\n",
    "import numpy as np\n",
    "from scipy.stats import norm, binom "
   ]
  },
  {
   "cell_type": "code",
   "execution_count": 2,
   "metadata": {},
   "outputs": [],
   "source": [
    "team_a = np.array([0.89, 0.67, 0.78, 0.44, 0.75])\n",
    "team_b = np.array([0.91, 0.75, 0.39, 0.60, 0.88])"
   ]
  },
  {
   "cell_type": "markdown",
   "metadata": {},
   "source": [
    "## Exercice 1.a:\n",
    "- What is the probability of each team’s five players scoring their penalty? Which team\n",
    "has the higher probability?"
   ]
  },
  {
   "cell_type": "code",
   "execution_count": 3,
   "metadata": {},
   "outputs": [
    {
     "name": "stdout",
     "output_type": "stream",
     "text": [
      "0.706\n",
      "0.7060000000000001\n"
     ]
    }
   ],
   "source": [
    "print(team_a.mean())\n",
    "print(team_b.mean())"
   ]
  },
  {
   "cell_type": "markdown",
   "metadata": {},
   "source": [
    "- **Answer**: Both teams have the same probabily to score.\n",
    "\n",
    "## Exercice 1.b:\n",
    "- Suppose the second player in Team A misses, and so does the third player of Team B; what is the probability of the remaining four players in each team scoring their penalty?\n"
   ]
  },
  {
   "cell_type": "code",
   "execution_count": 10,
   "metadata": {},
   "outputs": [
    {
     "name": "stdout",
     "output_type": "stream",
     "text": [
      "0.715\n",
      "0.785\n"
     ]
    }
   ],
   "source": [
    "miss_a = np.delete(team_a, 1)\n",
    "miss_b = np.delete(team_b, 2)\n",
    "print(miss_a.mean())\n",
    "print(miss_b.mean())"
   ]
  },
  {
   "cell_type": "markdown",
   "metadata": {},
   "source": [
    "- **Answer**: Team A now has a probability of $0.715$ and Team B now has a probability of $0.785$\n",
    "\n",
    "## Exercice 1.c:\n",
    "- Now, suppose the second player of each team has a conditional probability based on whether the first penalty taker scores their penalty (assume the probability of the first penalty taker stays the same):\n",
    "  - For Player 2 in Team A:\n",
    "  $$f_{1|2}(1|1) = 0.83,f_{1|2}(0|1) = 0.17$$\n",
    "  $$f_{1|2}(1|0) = 0.60,f_{1|2}(0|0) = 0.40$$\n",
    "\n",
    "  - For Player 2 in Team B:\n",
    "  $$f_{1|2}(1|1) = 0.81,f_{1|2}(0|1) = 0.19$$\n",
    "  $$f_{1|2}(1|0) = 0.72,f_{1|2}(0|0) = 0.28$$\n",
    "\n",
    "- Assuming the remaining players are independent of players one and two, what is the\n",
    "probability of the whole team if:\n",
    "\n",
    "## Exercice 1.d:\n",
    "  - The first shooter from both teams scores. Which team has the higher probability?"
   ]
  },
  {
   "cell_type": "code",
   "execution_count": 16,
   "metadata": {},
   "outputs": [
    {
     "name": "stdout",
     "output_type": "stream",
     "text": [
      "0.7\n",
      "0.67\n"
     ]
    }
   ],
   "source": [
    "hit_a = np.delete(team_a, 0)\n",
    "hit_b = np.delete(team_b, 0)\n",
    "\n",
    "hit_a[hit_a == 0.67] = 0.83\n",
    "hit_b[hit_b == 0.75] = 0.81\n",
    "\n",
    "print(hit_a.mean())\n",
    "print(hit_b.mean())"
   ]
  },
  {
   "cell_type": "markdown",
   "metadata": {},
   "source": [
    "- **Answer**: Team A has the higher probability with 0.7\n",
    "\n",
    "## Exercise 1.e:\n",
    "\n",
    "- Team A’s first player scores, but the second player does not."
   ]
  },
  {
   "cell_type": "code",
   "execution_count": 18,
   "metadata": {},
   "outputs": [
    {
     "name": "stdout",
     "output_type": "stream",
     "text": [
      "0.66\n"
     ]
    }
   ],
   "source": [
    "miss_a = np.delete(team_a, 0)\n",
    "miss_a = np.delete(team_a, 0)\n",
    "\n",
    "print(miss_a.mean())"
   ]
  },
  {
   "cell_type": "markdown",
   "metadata": {},
   "source": [
    "**Answer**: The probability of the remading players will be 0.66\n",
    "\n",
    "# Excercise 2\n",
    "Let X be a random variable distributed as Normal (6,3). Find the probabilities of the following events:\n",
    "\n",
    "1. $P(X <= 6)$\n",
    "2. $P(X > 4)$\n",
    "3. $P(|X - 5| > 1)$"
   ]
  },
  {
   "cell_type": "code",
   "execution_count": 28,
   "metadata": {},
   "outputs": [
    {
     "name": "stdout",
     "output_type": "stream",
     "text": [
      "0.5\n",
      "0.7475074624530771\n"
     ]
    }
   ],
   "source": [
    "mean, std = 6, 3\n",
    "print(norm(loc=mean, scale=std).cdf(6))\n",
    "print(1 - norm(loc=mean, scale=std).cdf(4))\n"
   ]
  },
  {
   "cell_type": "code",
   "execution_count": 25,
   "metadata": {},
   "outputs": [
    {
     "name": "stdout",
     "output_type": "stream",
     "text": [
      "0.7524925375469229\n"
     ]
    }
   ],
   "source": [
    "upper = norm(loc=mean, scale=std).cdf(6)\n",
    "lower = norm(loc=mean, scale=std).cdf(4)\n",
    "\n",
    "print(1 - (upper - lower))"
   ]
  },
  {
   "cell_type": "markdown",
   "metadata": {},
   "source": [
    "**Answers**:\n",
    "\n",
    "1. $P(X <= 6) = 0.5$\n",
    "2. $P(X > 4) = 0.7475$\n",
    "3. $P(|X - 5| > 1) = 0.7525$\n",
    "\n",
    "# Excercise 3\n",
    "\n",
    "- Just prior to jury selection for O. J. Simpson’s murder trial in 1995, a poll found that about 20% of the adult population believed Simpson was innocent (after much of the physical evidence in the case had been revealed to the public). Ignore the fact that this 20% is an estimate based on a subsample from the population; for illustration, take it as the true percentage of people who thought Simpson was innocent prior to jury selection Assume that the 12 jurors were selected randomly and independently from the population (although this turned out not to be true).\n",
    "    - Find the probability that the jury had at least one member who believed in Simpson’s innocence prior to jury selection. [Hint: Define the Binomial (12,20) random variable X to be the number of jurors believing in Simpson’s innocence]."
   ]
  },
  {
   "cell_type": "code",
   "execution_count": 34,
   "metadata": {},
   "outputs": [
    {
     "data": {
      "text/plain": [
       "0.931280523264"
      ]
     },
     "execution_count": 34,
     "metadata": {},
     "output_type": "execute_result"
    }
   ],
   "source": [
    "# Calculating the Binomial CDF for n >= 1\n",
    "k = 1\n",
    "n = 12\n",
    "p = .2\n",
    "1 - binom.cdf(k, n, p)  + binom.pmf(k, n, p)"
   ]
  },
  {
   "cell_type": "markdown",
   "metadata": {},
   "source": [
    "**Answer**: The probability that at least 1 jury found Simpsone innocent is $0.9313$\n",
    "\n",
    "- Find the probability that the jury had at least two members who believed in Simpson’s innocence. [Hint: $𝑃(𝑋 ≥ 2) = 1 − 𝑃(𝑋 ≤ 1)$ and $𝑃(𝑋 ≤ 1) = 𝑃(𝑋 = 0) + 𝑃(𝑋 = 1)$.]"
   ]
  },
  {
   "cell_type": "code",
   "execution_count": 35,
   "metadata": {},
   "outputs": [
    {
     "data": {
      "text/plain": [
       "0.7251220930560002"
      ]
     },
     "execution_count": 35,
     "metadata": {},
     "output_type": "execute_result"
    }
   ],
   "source": [
    "# Calculating the Binomial CDF for n >= 2\n",
    "k = 2\n",
    "n = 12\n",
    "p = .2\n",
    "1 - binom.cdf(k, n, p)  + binom.pmf(k, n, p)"
   ]
  },
  {
   "cell_type": "markdown",
   "metadata": {},
   "source": [
    "**Answer**: The probability that at least 1 jury found Simpsone innocent is $0.9313$\n",
    "\n",
    "# Excercice 4\n",
    "Let X denote the annual salary of university professors in the United States, measured in\n",
    "thousands of dollars. Suppose that the average salary is 52.3, with a standard deviation of\n",
    "14.6. Find the mean and standard deviation when salary is measured in dollars."
   ]
  },
  {
   "cell_type": "code",
   "execution_count": 36,
   "metadata": {},
   "outputs": [
    {
     "name": "stdout",
     "output_type": "stream",
     "text": [
      "52300.0\n",
      "14600.0\n"
     ]
    }
   ],
   "source": [
    "# transforming from thousans of dollars to dollars \n",
    "print(52.3*1000)\n",
    "print(14.6*1000)"
   ]
  },
  {
   "cell_type": "markdown",
   "metadata": {},
   "source": [
    "**Answer**: The mean salary is $52300$ and the standard deviation is $14600$"
   ]
  }
 ],
 "metadata": {
  "kernelspec": {
   "display_name": "mov",
   "language": "python",
   "name": "python3"
  },
  "language_info": {
   "codemirror_mode": {
    "name": "ipython",
    "version": 3
   },
   "file_extension": ".py",
   "mimetype": "text/x-python",
   "name": "python",
   "nbconvert_exporter": "python",
   "pygments_lexer": "ipython3",
   "version": "3.12.3"
  }
 },
 "nbformat": 4,
 "nbformat_minor": 2
}
