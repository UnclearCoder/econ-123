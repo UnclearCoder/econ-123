{
 "cells": [
  {
   "cell_type": "markdown",
   "metadata": {},
   "source": [
    "**Due**:Tuesday, June 3, 2021 11:59 PM EST\n",
    "\n",
    "**Author**:Alejandro M. Ouslan\n",
    "\n",
    "# Exercice\n",
    "- Two soccer (Football) teams go into a penalty shoot-out. Each team selects their five\n",
    "players for the shootout. The probabilities of them making their individual, independent\n",
    "shot is as follows:\n",
    "    - Team A: {0.89, 0.67, 0.78, 0.44, 0.75}\n",
    "    - Team B: {0.91, 0.75, 0.39, 0.60, 0.88}"
   ]
  },
  {
   "cell_type": "code",
   "execution_count": 1,
   "metadata": {},
   "outputs": [],
   "source": [
    "# imports \n",
    "import polars as pl\n",
    "import pandas as pd\n",
    "import numpy as np\n",
    "from scipy.stats import norm, binom, t, ttest_1samp, ttest_ind"
   ]
  },
  {
   "cell_type": "code",
   "execution_count": 2,
   "metadata": {},
   "outputs": [],
   "source": [
    "team_a = np.array([0.89, 0.67, 0.78, 0.44, 0.75])\n",
    "team_b = np.array([0.91, 0.75, 0.39, 0.60, 0.88])"
   ]
  },
  {
   "cell_type": "markdown",
   "metadata": {},
   "source": [
    "## Exercice a:\n",
    "- What is the probability of each team’s five players scoring their penalty? Which team\n",
    "has the higher probability?"
   ]
  },
  {
   "cell_type": "code",
   "execution_count": 3,
   "metadata": {},
   "outputs": [
    {
     "name": "stdout",
     "output_type": "stream",
     "text": [
      "0.15348762000000002\n"
     ]
    }
   ],
   "source": [
    "num = 1\n",
    "for i in team_a:\n",
    "    num = num * i\n",
    "print(num)"
   ]
  },
  {
   "cell_type": "code",
   "execution_count": 4,
   "metadata": {},
   "outputs": [
    {
     "name": "stdout",
     "output_type": "stream",
     "text": [
      "0.14054039999999998\n"
     ]
    }
   ],
   "source": [
    "num = 1\n",
    "for i in team_b:\n",
    "    num = num * i\n",
    "print(num)"
   ]
  },
  {
   "cell_type": "markdown",
   "metadata": {},
   "source": [
    "- **Answer**: Team A has the higher probability.\n",
    "\n",
    "## Exercice b:\n",
    "- Suppose the second player in Team A misses, and so does the third player of Team B; what is the probability of the remaining four players in each team scoring their penalty?\n"
   ]
  },
  {
   "cell_type": "code",
   "execution_count": 5,
   "metadata": {},
   "outputs": [
    {
     "name": "stdout",
     "output_type": "stream",
     "text": [
      "0.715\n",
      "0.785\n"
     ]
    }
   ],
   "source": [
    "miss_a = np.delete(team_a, 1)\n",
    "miss_b = np.delete(team_b, 2)\n",
    "print(miss_a.mean())\n",
    "print(miss_b.mean())"
   ]
  },
  {
   "cell_type": "markdown",
   "metadata": {},
   "source": [
    "- **Answer**: Team A now has a probability of $0.715$ and Team B now has a probability of $0.785$\n",
    "\n",
    "## Exercice c:\n",
    "- Now, suppose the second player of each team has a conditional probability based on whether the first penalty taker scores their penalty (assume the probability of the first penalty taker stays the same):\n",
    "  - For Player 2 in Team A:\n",
    "  $$f_{1|2}(1|1) = 0.83,f_{1|2}(0|1) = 0.17$$\n",
    "  $$f_{1|2}(1|0) = 0.60,f_{1|2}(0|0) = 0.40$$\n",
    "\n",
    "  - For Player 2 in Team B:\n",
    "  $$f_{1|2}(1|1) = 0.81,f_{1|2}(0|1) = 0.19$$\n",
    "  $$f_{1|2}(1|0) = 0.72,f_{1|2}(0|0) = 0.28$$\n",
    "\n",
    "- Assuming the remaining players are independent of players one and two, what is the\n",
    "probability of the whole team if:\n",
    "\n",
    "## Exercice d:\n",
    "  - The first shooter from both teams scores. Which team has the higher probability?"
   ]
  },
  {
   "cell_type": "code",
   "execution_count": 6,
   "metadata": {},
   "outputs": [
    {
     "name": "stdout",
     "output_type": "stream",
     "text": [
      "0.7\n",
      "0.67\n"
     ]
    }
   ],
   "source": [
    "hit_a = np.delete(team_a, 0)\n",
    "hit_b = np.delete(team_b, 0)\n",
    "\n",
    "hit_a[hit_a == 0.67] = 0.83\n",
    "hit_b[hit_b == 0.75] = 0.81\n",
    "\n",
    "print(hit_a.mean())\n",
    "print(hit_b.mean())"
   ]
  },
  {
   "cell_type": "markdown",
   "metadata": {},
   "source": [
    "- **Answer**: Team A has the higher probability with 0.7\n",
    "\n",
    "## Exercise e:\n",
    "\n",
    "- Team A’s first player scores, but the second player does not."
   ]
  },
  {
   "cell_type": "code",
   "execution_count": 7,
   "metadata": {},
   "outputs": [
    {
     "name": "stdout",
     "output_type": "stream",
     "text": [
      "0.66\n"
     ]
    }
   ],
   "source": [
    "miss_a = np.delete(team_a, 0)\n",
    "miss_a = np.delete(team_a, 0)\n",
    "\n",
    "print(miss_a.mean())"
   ]
  },
  {
   "cell_type": "markdown",
   "metadata": {},
   "source": [
    "**Answer**: The probability of the remading players will be 0.66\n",
    "\n",
    "# Excercise\n",
    "Let X be a random variable distributed as Normal (6,3). Find the probabilities of the following events:\n",
    "\n",
    "1. $P(X <= 6)$\n",
    "2. $P(X > 4)$\n",
    "3. $P(|X - 5| > 1)$"
   ]
  },
  {
   "cell_type": "code",
   "execution_count": 8,
   "metadata": {},
   "outputs": [
    {
     "name": "stdout",
     "output_type": "stream",
     "text": [
      "0.5\n",
      "0.7475074624530771\n"
     ]
    }
   ],
   "source": [
    "mean, std = 6, 3\n",
    "print(norm(loc=mean, scale=std).cdf(6))\n",
    "print(1 - norm(loc=mean, scale=std).cdf(4))\n"
   ]
  },
  {
   "cell_type": "code",
   "execution_count": 9,
   "metadata": {},
   "outputs": [
    {
     "name": "stdout",
     "output_type": "stream",
     "text": [
      "0.7524925375469229\n"
     ]
    }
   ],
   "source": [
    "upper = norm(loc=mean, scale=std).cdf(6)\n",
    "lower = norm(loc=mean, scale=std).cdf(4)\n",
    "\n",
    "print(1 - (upper - lower))"
   ]
  },
  {
   "cell_type": "markdown",
   "metadata": {},
   "source": [
    "**Answers**:\n",
    "\n",
    "1. $P(X <= 6) = 0.5$\n",
    "2. $P(X > 4) = 0.7475$\n",
    "3. $P(|X - 5| > 1) = 0.7525$\n",
    "\n",
    "# Excercise \n",
    "\n",
    "- Just prior to jury selection for O. J. Simpson’s murder trial in 1995, a poll found that about 20% of the adult population believed Simpson was innocent (after much of the physical evidence in the case had been revealed to the public). Ignore the fact that this 20% is an estimate based on a subsample from the population; for illustration, take it as the true percentage of people who thought Simpson was innocent prior to jury selection Assume that the 12 jurors were selected randomly and independently from the population (although this turned out not to be true).\n",
    "\n",
    "## Excercie i\n",
    "- Find the probability that the jury had at least one member who believed in Simpson’s innocence prior to jury selection. [Hint: Define the Binomial ($12,20)$ random variable $X$ to be the number of jurors believing in Simpson’s innocence]."
   ]
  },
  {
   "cell_type": "code",
   "execution_count": 10,
   "metadata": {},
   "outputs": [
    {
     "data": {
      "text/plain": [
       "0.931280523264"
      ]
     },
     "execution_count": 10,
     "metadata": {},
     "output_type": "execute_result"
    }
   ],
   "source": [
    "# Calculating the Binomial CDF for n >= 1\n",
    "k = 1\n",
    "n = 12\n",
    "p = .2\n",
    "1 - binom.cdf(k, n, p)  + binom.pmf(k, n, p)"
   ]
  },
  {
   "cell_type": "markdown",
   "metadata": {},
   "source": [
    "**Answer**: The probability that at least 1 jury found Simpsone innocent is $0.9313$\n",
    "\n",
    "## Excerce ii\n",
    "- Find the probability that the jury had at least two members who believed in Simpson’s innocence. [Hint: $𝑃(𝑋 ≥ 2) = 1 − 𝑃(𝑋 ≤ 1)$ and $𝑃(𝑋 ≤ 1) = 𝑃(𝑋 = 0) + 𝑃(𝑋 = 1)$.]"
   ]
  },
  {
   "cell_type": "code",
   "execution_count": 11,
   "metadata": {},
   "outputs": [
    {
     "data": {
      "text/plain": [
       "0.7251220930560002"
      ]
     },
     "execution_count": 11,
     "metadata": {},
     "output_type": "execute_result"
    }
   ],
   "source": [
    "# Calculating the Binomial CDF for n >= 2\n",
    "k = 2\n",
    "n = 12\n",
    "p = .2\n",
    "1 - binom.cdf(k, n, p)  + binom.pmf(k, n, p)"
   ]
  },
  {
   "cell_type": "markdown",
   "metadata": {},
   "source": [
    "**Answer**: The probability that at least 1 jury found Simpsone innocent is $0.9313$\n",
    "\n",
    "# Excercice\n",
    "Let X denote the annual salary of university professors in the United States, measured in\n",
    "thousands of dollars. Suppose that the average salary is 52.3, with a standard deviation of\n",
    "14.6. Find the mean and standard deviation when salary is measured in dollars."
   ]
  },
  {
   "cell_type": "code",
   "execution_count": 12,
   "metadata": {},
   "outputs": [
    {
     "name": "stdout",
     "output_type": "stream",
     "text": [
      "52300.0\n",
      "14600.0\n"
     ]
    }
   ],
   "source": [
    "# transforming from thousans of dollars to dollars \n",
    "print(52.3*1000)\n",
    "print(14.6*1000)"
   ]
  },
  {
   "cell_type": "markdown",
   "metadata": {},
   "source": [
    "**Answer**: The mean salary is $52300$ and the standard deviation is $14600$\n",
    "\n",
    "# Excercice\n",
    "- Let $Y_1,Y_2,Y_3,$ and $Y_4$ be independent, identically distributed random variable from a ppopulation with mean $\\mu$ and variene $\\sigma^2$. Let $\\overline Y = \\frac{1}{4}(Y_1+Y_2+Y_3+Y_4)$ denote the average of these four random variables.\n",
    "\n",
    "## Excercice i\n",
    "- What are the expecteed values and varience of $\\overline Y$ in terms of $\\mu$ and $\\sigma^2$?"
   ]
  },
  {
   "cell_type": "code",
   "execution_count": 13,
   "metadata": {
    "vscode": {
     "languageId": "latex"
    }
   },
   "outputs": [
    {
     "data": {
      "text/latex": [
       "\\begin{align}\n",
       "    E[\\overline Y] &= E[\\frac{1}{4}(Y_1+Y_2+Y_3+Y_4)] \\\\\n",
       "    E[\\overline Y] &= \\frac{1}{4}(E[Y_1]+E[Y_2]+E[Y_3]+E[Y_4]) \\\\\n",
       "    E[\\overline Y] &= \\frac{1}{4}(\\mu_1+\\mu_2+\\mu_3+\\mu_4) \\\\\n",
       "    E[\\overline Y] &= \\mu \\\\\n",
       "    \\end{align}\n",
       "    \n",
       "\\begin{align}\n",
       "    \\sigma^2 &= \\frac{1}{n} \\sum_{i=1}^4 (Y_i - \\mu) \\\\\n",
       "    \\end{align}\n"
      ],
      "text/plain": [
       "<IPython.core.display.Latex object>"
      ]
     },
     "metadata": {},
     "output_type": "display_data"
    }
   ],
   "source": [
    "%%latex\n",
    "\\begin{align}\n",
    "    E[\\overline Y] &= E[\\frac{1}{4}(Y_1+Y_2+Y_3+Y_4)] \\\\\n",
    "    E[\\overline Y] &= \\frac{1}{4}(E[Y_1]+E[Y_2]+E[Y_3]+E[Y_4]) \\\\\n",
    "    E[\\overline Y] &= \\frac{1}{4}(\\mu_1+\\mu_2+\\mu_3+\\mu_4) \\\\\n",
    "    E[\\overline Y] &= \\mu \\\\\n",
    "    \\end{align}\n",
    "    \n",
    "\\begin{align}\n",
    "    \\sigma^2 &= \\frac{1}{n} \\sum_{i=1}^4 (Y_i - \\mu) \\\\\n",
    "    \\end{align}"
   ]
  },
  {
   "cell_type": "markdown",
   "metadata": {
    "vscode": {
     "languageId": "latex"
    }
   },
   "source": [
    "## Excercice ii\n",
    "\n",
    "- Now, consider a different estimator of 𝜇:\n",
    "        $$W = \\frac{1}{8} Y_1 + \\frac{1}{8} Y_2 + \\frac{1}{4} Y_3 + \\frac{1}{2} Y_4$$"
   ]
  },
  {
   "cell_type": "code",
   "execution_count": 14,
   "metadata": {
    "vscode": {
     "languageId": "latex"
    }
   },
   "outputs": [
    {
     "data": {
      "text/latex": [
       "\\begin{align}\n",
       "    E[W] &= E[\\frac{1}{8} Y_1 + \\frac{1}{8} Y_2 + \\frac{1}{4} Y_3 + \\frac{1}{2} Y_4] \\\\\n",
       "    E[W] &= \\frac{1}{8} E[Y_1] + \\frac{1}{8} E[Y_2] + \\frac{1}{4} E[Y_3] + \\frac{1}{2} E[Y_4] \\\\\n",
       "    E[W] &= \\frac{1}{8} \\mu_1 + \\frac{1}{8} \\mu_2 + \\frac{1}{4} \\mu_2 + \\frac{1}{2} \\mu_3 \\\\\n",
       "    E[W] &= \\mu\n",
       "    \\end{align}\n",
       "    \n",
       "\\begin{align}\n",
       "    \\sigma^2 &= \\frac{1}{n} \\sum_{i=1}^4 (Y_i - \\mu) \\\\\n",
       "    \\end{align}\n"
      ],
      "text/plain": [
       "<IPython.core.display.Latex object>"
      ]
     },
     "metadata": {},
     "output_type": "display_data"
    }
   ],
   "source": [
    "%%latex\n",
    "\\begin{align}\n",
    "    E[W] &= E[\\frac{1}{8} Y_1 + \\frac{1}{8} Y_2 + \\frac{1}{4} Y_3 + \\frac{1}{2} Y_4] \\\\\n",
    "    E[W] &= \\frac{1}{8} E[Y_1] + \\frac{1}{8} E[Y_2] + \\frac{1}{4} E[Y_3] + \\frac{1}{2} E[Y_4] \\\\\n",
    "    E[W] &= \\frac{1}{8} \\mu_1 + \\frac{1}{8} \\mu_2 + \\frac{1}{4} \\mu_2 + \\frac{1}{2} \\mu_3 \\\\\n",
    "    E[W] &= \\mu\n",
    "    \\end{align}\n",
    "    \n",
    "\\begin{align}\n",
    "    \\sigma^2 &= \\frac{1}{n} \\sum_{i=1}^4 (Y_i - \\mu) \\\\\n",
    "    \\end{align}"
   ]
  },
  {
   "cell_type": "markdown",
   "metadata": {
    "vscode": {
     "languageId": "latex"
    }
   },
   "source": [
    "## Excercice iii\n",
    "- Based on your answers to parts i and ii, which estimator of m do you prefer,\n",
    "$\\overline Y$ or $W$?\n",
    "    - I would prefer $\\overline Y$ due to its simplicity however $W$ would be necesary depending on the problem.\n",
    "\n",
    "# Excercice \n",
    "- Suppose that between their first and second years in college, 400 students are randomly\n",
    "    selected and given a university grant to purchase a new computer. For student i, 𝑦𝑖\n",
    "    denotes the change in GPA from the first year to the second year. If the average change is $\\overline Y = .132$ with standard deviation $s = 1.27$, is the average change in GPAs statistically greater than zero?\n",
    "    \n",
    "    - Doing a t-test, we find that the p-value is $0.98$, so there is not enough evidence to reject the null hypothesis.\n",
    "\n",
    "# Excercice \n",
    "The new management at a bakery claims that workers are now more productive and they\n",
    "were under old management, which is why wages have “generally increased.” Let $𝑊_𝑖^𝑏$ be\n",
    "worker i’s wage under the old management and let $𝑊_𝑖^𝑎$ be Worker i’s wage after the\n",
    "change. The difference is $𝐷_𝑖 \\equiv 𝑊_𝑖^𝑎 − 𝑊_𝑖^𝑏$. Assume that the $D_i$ are a random sample from a Normal $(\\mu, \\sigma^2)$ distribution.\n",
    "\n",
    "## Excercice i\n",
    "- Using the following data on 15 workers, construct an exact 95% confidence\n",
    "interval for 𝜇."
   ]
  },
  {
   "cell_type": "code",
   "execution_count": 15,
   "metadata": {
    "vscode": {
     "languageId": "latex"
    }
   },
   "outputs": [
    {
     "data": {
      "text/plain": [
       "(array([[6.59132867, 6.98510843]]), array([[13.87533799, 13.8282249 ]]))"
      ]
     },
     "execution_count": 15,
     "metadata": {},
     "output_type": "execute_result"
    }
   ],
   "source": [
    "df = pl.DataFrame(\n",
    "    {\n",
    "        \"before\": [8.30, 9.4, 9, 10.5, 11.4, 8.75, 10, 9.5, 10.8, 12.55, 12, 8.65, 7.75, 11.25, 13.65],\n",
    "        \"after\": [9.25, 9, 9.25, 10, 12, 9.5, 10.25, 9.5, 11.5, 13.1, 11.5, 9, 7.75, 11.5, 13]\n",
    "    }\n",
    ")\n",
    "t.interval(confidence=.95, df=14, loc=df.mean(), scale=df.std())"
   ]
  },
  {
   "cell_type": "markdown",
   "metadata": {},
   "source": [
    "**Answer**: CI for before wage increase is $[6.59, 13.88]$ and after wage increase is $[6.99, 13.83]$.\n",
    "\n",
    "## Excercice ii\n",
    "- Formally state the null hypothesis that there has been no change in average wages. In particular, what is the 𝐸(𝐷𝑖) under 𝐻0? If you are hired to examine the validy of the new management’s claim, what is the relevant alternative hypothesis in terms of 𝜇 = 𝐸(𝐷𝑖)?\n",
    "$$ \\text{Null hypothesis: } H_0: \\mu_{a} = \\mu_{b} \\\\\n",
    "\n",
    "\\text{Alternative hypothesis: } H_1: \\mu_a > \\mu_b $$\n",
    "\n",
    "\n",
    "## Excercise iii\n",
    "- Test the null hypothesis from part ii against the stated alternative at the 5% and 1% levels."
   ]
  },
  {
   "cell_type": "code",
   "execution_count": 16,
   "metadata": {},
   "outputs": [
    {
     "name": "stdout",
     "output_type": "stream",
     "text": [
      "t-statistic: 0.2881320751359442\n",
      "P-value: 0.38768388434956697\n"
     ]
    }
   ],
   "source": [
    "t_statistic, p_value = ttest_ind(df[\"after\"], df[\"before\"], alternative=\"greater\")\n",
    "# Output the results\n",
    "print(f\"t-statistic: {t_statistic}\")\n",
    "print(f\"P-value: {p_value}\")"
   ]
  },
  {
   "cell_type": "markdown",
   "metadata": {},
   "source": [
    "**Answeer**: Given that the P-value is $0.39$ we can not reject the null hypothesis for either $\\%1$ or $\\%5$."
   ]
  }
 ],
 "metadata": {
  "kernelspec": {
   "display_name": "mov",
   "language": "python",
   "name": "python3"
  },
  "language_info": {
   "codemirror_mode": {
    "name": "ipython",
    "version": 3
   },
   "file_extension": ".py",
   "mimetype": "text/x-python",
   "name": "python",
   "nbconvert_exporter": "python",
   "pygments_lexer": "ipython3",
   "version": "3.9.19"
  }
 },
 "nbformat": 4,
 "nbformat_minor": 2
}
