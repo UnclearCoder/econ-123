{
 "cells": [
  {
   "cell_type": "code",
   "execution_count": 1,
   "metadata": {},
   "outputs": [],
   "source": [
    "import os\n",
    "os.chdir(\"..\")"
   ]
  },
  {
   "cell_type": "code",
   "execution_count": 2,
   "metadata": {},
   "outputs": [],
   "source": [
    "import pandas as pd\n",
    "import polars as pl\n",
    "import numpy as np\n",
    "import statsmodels.api as sm\n",
    "import statsmodels.formula.api as smf"
   ]
  },
  {
   "cell_type": "code",
   "execution_count": 18,
   "metadata": {},
   "outputs": [],
   "source": [
    "df = pd.read_csv(\"data/raw/Data 401K.csv\")"
   ]
  },
  {
   "cell_type": "code",
   "execution_count": 21,
   "metadata": {},
   "outputs": [],
   "source": [
    "x = sm.add_constant(df[\"mrate\"])\n",
    "results = sm.OLS(df[\"prate\"],x).fit()"
   ]
  },
  {
   "cell_type": "code",
   "execution_count": 22,
   "metadata": {},
   "outputs": [
    {
     "name": "stdout",
     "output_type": "stream",
     "text": [
      "                            OLS Regression Results                            \n",
      "==============================================================================\n",
      "Dep. Variable:                  prate   R-squared:                       0.075\n",
      "Model:                            OLS   Adj. R-squared:                  0.074\n",
      "Method:                 Least Squares   F-statistic:                     123.7\n",
      "Date:                Thu, 06 Jun 2024   Prob (F-statistic):           1.10e-27\n",
      "Time:                        14:52:50   Log-Likelihood:                -6437.0\n",
      "No. Observations:                1534   AIC:                         1.288e+04\n",
      "Df Residuals:                    1532   BIC:                         1.289e+04\n",
      "Df Model:                           1                                         \n",
      "Covariance Type:            nonrobust                                         \n",
      "==============================================================================\n",
      "                 coef    std err          t      P>|t|      [0.025      0.975]\n",
      "------------------------------------------------------------------------------\n",
      "const         83.0755      0.563    147.484      0.000      81.971      84.180\n",
      "mrate          5.8611      0.527     11.121      0.000       4.827       6.895\n",
      "==============================================================================\n",
      "Omnibus:                      394.767   Durbin-Watson:                   1.908\n",
      "Prob(Omnibus):                  0.000   Jarque-Bera (JB):              870.172\n",
      "Skew:                          -1.444   Prob(JB):                    1.11e-189\n",
      "Kurtosis:                       5.296   Cond. No.                         2.32\n",
      "==============================================================================\n",
      "\n",
      "Notes:\n",
      "[1] Standard Errors assume that the covariance matrix of the errors is correctly specified.\n"
     ]
    }
   ],
   "source": [
    "print(results.summary())"
   ]
  }
 ],
 "metadata": {
  "kernelspec": {
   "display_name": "class",
   "language": "python",
   "name": "python3"
  },
  "language_info": {
   "codemirror_mode": {
    "name": "ipython",
    "version": 3
   },
   "file_extension": ".py",
   "mimetype": "text/x-python",
   "name": "python",
   "nbconvert_exporter": "python",
   "pygments_lexer": "ipython3",
   "version": "3.9.19"
  }
 },
 "nbformat": 4,
 "nbformat_minor": 2
}
